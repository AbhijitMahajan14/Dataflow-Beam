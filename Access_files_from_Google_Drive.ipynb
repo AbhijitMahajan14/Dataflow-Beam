{
  "nbformat": 4,
  "nbformat_minor": 0,
  "metadata": {
    "colab": {
      "provenance": [],
      "mount_file_id": "1HvumFZiiZDEFKoOdXnoV90dySamJ7IDW",
      "authorship_tag": "ABX9TyNSGSWvhN901+sscknfAr0E",
      "include_colab_link": true
    },
    "kernelspec": {
      "name": "python3",
      "display_name": "Python 3"
    },
    "language_info": {
      "name": "python"
    }
  },
  "cells": [
    {
      "cell_type": "markdown",
      "metadata": {
        "id": "view-in-github",
        "colab_type": "text"
      },
      "source": [
        "<a href=\"https://colab.research.google.com/github/AbhijitMahajan14/Dataflow-Beam/blob/main/Access_files_from_Google_Drive.ipynb\" target=\"_parent\"><img src=\"https://colab.research.google.com/assets/colab-badge.svg\" alt=\"Open In Colab\"/></a>"
      ]
    },
    {
      "cell_type": "code",
      "execution_count": null,
      "metadata": {
        "colab": {
          "base_uri": "https://localhost:8080/"
        },
        "id": "QA6Y_oitDpKq",
        "outputId": "769de87d-68ff-4955-b679-61e41397a924"
      },
      "outputs": [
        {
          "output_type": "stream",
          "name": "stdout",
          "text": [
            "Mounted at /content/drive\n"
          ]
        }
      ],
      "source": [
        "from google.colab import drive\n",
        "drive.mount('/content/drive')"
      ]
    },
    {
      "cell_type": "code",
      "source": [
        "!{'pip install -q apache-beam'}"
      ],
      "metadata": {
        "colab": {
          "base_uri": "https://localhost:8080/"
        },
        "id": "ItI8wCdlIcfR",
        "outputId": "f18182bb-d347-4d75-d036-592ffc3600f7"
      },
      "execution_count": null,
      "outputs": [
        {
          "output_type": "stream",
          "name": "stdout",
          "text": [
            "\u001b[2K     \u001b[90m━━━━━━━━━━━━━━━━━━━━━━━━━━━━━━━━━━━━━━━━\u001b[0m \u001b[32m14.5/14.5 MB\u001b[0m \u001b[31m34.1 MB/s\u001b[0m eta \u001b[36m0:00:00\u001b[0m\n",
            "\u001b[2K     \u001b[90m━━━━━━━━━━━━━━━━━━━━━━━━━━━━━━━━━━━━━━━━\u001b[0m \u001b[32m89.7/89.7 kB\u001b[0m \u001b[31m11.0 MB/s\u001b[0m eta \u001b[36m0:00:00\u001b[0m\n",
            "\u001b[?25h  Preparing metadata (setup.py) ... \u001b[?25l\u001b[?25hdone\n",
            "\u001b[2K     \u001b[90m━━━━━━━━━━━━━━━━━━━━━━━━━━━━━━━━━━━━━━━━\u001b[0m \u001b[32m142.7/142.7 kB\u001b[0m \u001b[31m16.7 MB/s\u001b[0m eta \u001b[36m0:00:00\u001b[0m\n",
            "\u001b[2K     \u001b[90m━━━━━━━━━━━━━━━━━━━━━━━━━━━━━━━━━━━━━━━━\u001b[0m \u001b[32m152.0/152.0 kB\u001b[0m \u001b[31m16.4 MB/s\u001b[0m eta \u001b[36m0:00:00\u001b[0m\n",
            "\u001b[?25h  Preparing metadata (setup.py) ... \u001b[?25l\u001b[?25hdone\n",
            "\u001b[2K     \u001b[90m━━━━━━━━━━━━━━━━━━━━━━━━━━━━━━━━━━━━━━━━\u001b[0m \u001b[32m3.1/3.1 MB\u001b[0m \u001b[31m72.7 MB/s\u001b[0m eta \u001b[36m0:00:00\u001b[0m\n",
            "\u001b[2K     \u001b[90m━━━━━━━━━━━━━━━━━━━━━━━━━━━━━━━━━━━━━━━━\u001b[0m \u001b[32m43.5/43.5 kB\u001b[0m \u001b[31m4.9 MB/s\u001b[0m eta \u001b[36m0:00:00\u001b[0m\n",
            "\u001b[?25h  Preparing metadata (setup.py) ... \u001b[?25l\u001b[?25hdone\n",
            "\u001b[2K     \u001b[90m━━━━━━━━━━━━━━━━━━━━━━━━━━━━━━━━━━━━━━━━\u001b[0m \u001b[32m669.1/669.1 kB\u001b[0m \u001b[31m42.6 MB/s\u001b[0m eta \u001b[36m0:00:00\u001b[0m\n",
            "\u001b[2K     \u001b[90m━━━━━━━━━━━━━━━━━━━━━━━━━━━━━━━━━━━━━━━━\u001b[0m \u001b[32m252.0/252.0 kB\u001b[0m \u001b[31m29.4 MB/s\u001b[0m eta \u001b[36m0:00:00\u001b[0m\n",
            "\u001b[2K     \u001b[90m━━━━━━━━━━━━━━━━━━━━━━━━━━━━━━━━━━━━━━━━\u001b[0m \u001b[32m5.4/5.4 MB\u001b[0m \u001b[31m52.1 MB/s\u001b[0m eta \u001b[36m0:00:00\u001b[0m\n",
            "\u001b[2K     \u001b[90m━━━━━━━━━━━━━━━━━━━━━━━━━━━━━━━━━━━━━━━━\u001b[0m \u001b[32m1.0/1.0 MB\u001b[0m \u001b[31m48.3 MB/s\u001b[0m eta \u001b[36m0:00:00\u001b[0m\n",
            "\u001b[?25h  Preparing metadata (setup.py) ... \u001b[?25l\u001b[?25hdone\n",
            "  Preparing metadata (setup.py) ... \u001b[?25l\u001b[?25hdone\n",
            "\u001b[2K     \u001b[90m━━━━━━━━━━━━━━━━━━━━━━━━━━━━━━━━━━━━━━━━\u001b[0m \u001b[32m307.7/307.7 kB\u001b[0m \u001b[31m30.3 MB/s\u001b[0m eta \u001b[36m0:00:00\u001b[0m\n",
            "\u001b[?25h  Building wheel for crcmod (setup.py) ... \u001b[?25l\u001b[?25hdone\n",
            "  Building wheel for dill (setup.py) ... \u001b[?25l\u001b[?25hdone\n",
            "  Building wheel for hdfs (setup.py) ... \u001b[?25l\u001b[?25hdone\n",
            "  Building wheel for pyjsparser (setup.py) ... \u001b[?25l\u001b[?25hdone\n",
            "  Building wheel for docopt (setup.py) ... \u001b[?25l\u001b[?25hdone\n"
          ]
        }
      ]
    },
    {
      "cell_type": "code",
      "source": [
        "import apache_beam as beam\n",
        "def reTuple(element):\n",
        "  element=element.split(\",\")\n",
        "  return (element[0],element[1])\n",
        "\n",
        "p1=beam.Pipeline()\n",
        "\n",
        "dept=(\n",
        "    p1\n",
        "    |\"read dept data\">>beam.io.ReadFromText(\"/content/drive/MyDrive/Colab Notebooks/dept_data.txt\")\n",
        "    |\"retuple dep\">>beam.Map(reTuple)\n",
        ")\n",
        "\n",
        "loc=(\n",
        "    p1\n",
        "    |\"read loc data\">>beam.io.ReadFromText(\"/content/drive/MyDrive/Colab Notebooks/location.txt\")\n",
        "    |\"retuple loc\">>beam.Map(reTuple)\n",
        ")\n",
        "\n",
        "cogrouby_res=(\n",
        "    {\"dept\":dept,\"loc\":loc}\n",
        "    |beam.CoGroupByKey()\n",
        "    |beam.io.WriteToText(\"cogroupby_result.txt\")\n",
        ")\n",
        "\n",
        "p1.run()\n",
        "\n",
        "!{'head -n 20 cogroupby_result.txt-00000-of-00001'}"
      ],
      "metadata": {
        "colab": {
          "base_uri": "https://localhost:8080/",
          "height": 425
        },
        "id": "uLbtmMQLDude",
        "outputId": "958042c7-a242-4a0d-97c5-8e0bf3fb936e"
      },
      "execution_count": null,
      "outputs": [
        {
          "output_type": "stream",
          "name": "stderr",
          "text": [
            "WARNING:apache_beam.runners.interactive.interactive_environment:Dependencies required for Interactive Beam PCollection visualization are not available, please use: `pip install apache-beam[interactive]` to install necessary dependencies to enable all data visualization features.\n"
          ]
        },
        {
          "output_type": "display_data",
          "data": {
            "application/javascript": [
              "\n",
              "        if (typeof window.interactive_beam_jquery == 'undefined') {\n",
              "          var jqueryScript = document.createElement('script');\n",
              "          jqueryScript.src = 'https://code.jquery.com/jquery-3.4.1.slim.min.js';\n",
              "          jqueryScript.type = 'text/javascript';\n",
              "          jqueryScript.onload = function() {\n",
              "            var datatableScript = document.createElement('script');\n",
              "            datatableScript.src = 'https://cdn.datatables.net/1.10.20/js/jquery.dataTables.min.js';\n",
              "            datatableScript.type = 'text/javascript';\n",
              "            datatableScript.onload = function() {\n",
              "              window.interactive_beam_jquery = jQuery.noConflict(true);\n",
              "              window.interactive_beam_jquery(document).ready(function($){\n",
              "                \n",
              "              });\n",
              "            }\n",
              "            document.head.appendChild(datatableScript);\n",
              "          };\n",
              "          document.head.appendChild(jqueryScript);\n",
              "        } else {\n",
              "          window.interactive_beam_jquery(document).ready(function($){\n",
              "            \n",
              "          });\n",
              "        }"
            ]
          },
          "metadata": {}
        },
        {
          "output_type": "stream",
          "name": "stdout",
          "text": [
            "('149633CM', {'dept': ['Marco', 'Marco', 'Marco', 'Marco', 'Marco', 'Marco', 'Marco', 'Marco', 'Marco', 'Marco', 'Marco', 'Marco', 'Marco', 'Marco', 'Marco', 'Marco', 'Marco', 'Marco', 'Marco', 'Marco', 'Marco', 'Marco', 'Marco', 'Marco', 'Marco', 'Marco', 'Marco', 'Marco', 'Marco', 'Marco', 'Marco'], 'loc': ['9876843261', '9204232778']})\n",
            "('212539MU', {'dept': ['Rebekah', 'Rebekah', 'Rebekah', 'Rebekah', 'Rebekah', 'Rebekah', 'Rebekah', 'Rebekah', 'Rebekah', 'Rebekah', 'Rebekah', 'Rebekah', 'Rebekah', 'Rebekah', 'Rebekah', 'Rebekah', 'Rebekah', 'Rebekah', 'Rebekah', 'Rebekah', 'Rebekah', 'Rebekah', 'Rebekah', 'Rebekah', 'Rebekah', 'Rebekah', 'Rebekah', 'Rebekah', 'Rebekah', 'Rebekah', 'Rebekah'], 'loc': ['9995440673']})\n",
            "('231555ZZ', {'dept': ['Itoe', 'Itoe', 'Itoe', 'Itoe', 'Itoe', 'Itoe', 'Itoe', 'Itoe', 'Itoe', 'Itoe', 'Itoe', 'Itoe', 'Itoe', 'Itoe', 'Itoe', 'Itoe', 'Itoe', 'Itoe', 'Itoe', 'Itoe', 'Itoe', 'Itoe', 'Itoe', 'Itoe', 'Itoe', 'Itoe', 'Itoe', 'Itoe', 'Itoe', 'Itoe', 'Itoe'], 'loc': ['9196597290']})\n",
            "('503996WI', {'dept': ['Edouard', 'Edouard', 'Edouard', 'Edouard', 'Edouard', 'Edouard', 'Edouard', 'Edouard', 'Edouard', 'Edouard', 'Edouard', 'Edouard', 'Edouard', 'Edouard', 'Edouard', 'Edouard', 'Edouard', 'Edouard', 'Edouard', 'Edouard', 'Edouard', 'Edouard', 'Edouard', 'Edouard', 'Edouard', 'Edouard', 'Edouard', 'Edouard', 'Edouard', 'Edouard', 'Edouard'], 'loc': ['9468234252']})\n",
            "('704275DC', {'dept': ['Kyle', 'Kyle', 'Kyle', 'Kyle', 'Kyle', 'Kyle', 'Kyle', 'Kyle', 'Kyle', 'Kyle', 'Kyle', 'Kyle', 'Kyle', 'Kyle', 'Kyle', 'Kyle', 'Kyle', 'Kyle', 'Kyle', 'Kyle', 'Kyle', 'Kyle', 'Kyle', 'Kyle', 'Kyle', 'Kyle', 'Kyle', 'Kyle', 'Kyle', 'Kyle', 'Kyle'], 'loc': ['9776235961']})\n",
            "('957149WC', {'dept': ['Kyle', 'Kyle', 'Kyle', 'Kyle', 'Kyle', 'Kyle', 'Kyle', 'Kyle', 'Kyle', 'Kyle', 'Kyle', 'Kyle', 'Kyle', 'Kyle', 'Kyle', 'Kyle', 'Kyle', 'Kyle', 'Kyle', 'Kyle', 'Kyle', 'Kyle', 'Kyle', 'Kyle', 'Kyle', 'Kyle', 'Kyle', 'Kyle', 'Kyle', 'Kyle', 'Kyle'], 'loc': ['9925595092']})\n",
            "('241316NX', {'dept': ['Kumiko', 'Kumiko', 'Kumiko', 'Kumiko', 'Kumiko', 'Kumiko', 'Kumiko', 'Kumiko', 'Kumiko', 'Kumiko', 'Kumiko', 'Kumiko', 'Kumiko', 'Kumiko', 'Kumiko', 'Kumiko', 'Kumiko', 'Kumiko', 'Kumiko', 'Kumiko', 'Kumiko', 'Kumiko', 'Kumiko', 'Kumiko', 'Kumiko', 'Kumiko', 'Kumiko', 'Kumiko', 'Kumiko', 'Kumiko', 'Kumiko'], 'loc': ['9837402343']})\n",
            "('796656IE', {'dept': ['Gaston', 'Gaston', 'Gaston', 'Gaston', 'Gaston', 'Gaston', 'Gaston', 'Gaston', 'Gaston', 'Gaston', 'Gaston', 'Gaston', 'Gaston', 'Gaston', 'Gaston', 'Gaston', 'Gaston', 'Gaston', 'Gaston', 'Gaston', 'Gaston', 'Gaston', 'Gaston', 'Gaston', 'Gaston', 'Gaston', 'Gaston', 'Gaston', 'Gaston', 'Gaston', 'Gaston'], 'loc': ['9538848876']})\n",
            "('331593PS', {'dept': ['Beryl', 'Beryl', 'Beryl', 'Beryl', 'Beryl', 'Beryl', 'Beryl', 'Beryl', 'Beryl', 'Beryl', 'Beryl', 'Beryl', 'Beryl', 'Beryl', 'Beryl', 'Beryl', 'Beryl', 'Beryl', 'Beryl', 'Beryl', 'Beryl', 'Beryl', 'Beryl', 'Beryl', 'Beryl', 'Beryl', 'Beryl', 'Beryl', 'Beryl', 'Beryl', 'Beryl'], 'loc': ['9137216186']})\n",
            "('560447WH', {'dept': ['Olga', 'Olga', 'Olga', 'Olga', 'Olga', 'Olga', 'Olga', 'Olga', 'Olga', 'Olga', 'Olga', 'Olga', 'Olga', 'Olga', 'Olga', 'Olga', 'Olga', 'Olga', 'Olga', 'Olga', 'Olga', 'Olga', 'Olga', 'Olga', 'Olga', 'Olga', 'Olga', 'Olga', 'Olga', 'Olga', 'Olga'], 'loc': ['9708010864']})\n",
            "('222997TJ', {'dept': ['Leslie', 'Leslie', 'Leslie', 'Leslie', 'Leslie', 'Leslie', 'Leslie', 'Leslie', 'Leslie', 'Leslie', 'Leslie', 'Leslie', 'Leslie', 'Leslie', 'Leslie', 'Leslie', 'Leslie', 'Leslie', 'Leslie', 'Leslie', 'Leslie', 'Leslie', 'Leslie', 'Leslie', 'Leslie', 'Leslie', 'Leslie', 'Leslie', 'Leslie', 'Leslie', 'Leslie'], 'loc': ['9410006713']})\n",
            "('171752SY', {'dept': ['Mindy', 'Mindy', 'Mindy', 'Mindy', 'Mindy', 'Mindy', 'Mindy', 'Mindy', 'Mindy', 'Mindy', 'Mindy', 'Mindy', 'Mindy', 'Mindy', 'Mindy', 'Mindy', 'Mindy', 'Mindy', 'Mindy', 'Mindy', 'Mindy', 'Mindy', 'Mindy', 'Mindy', 'Mindy', 'Mindy', 'Mindy', 'Mindy', 'Mindy', 'Mindy', 'Mindy'], 'loc': ['9494683837']})\n",
            "('153636AS', {'dept': ['Vicky', 'Vicky', 'Vicky', 'Vicky', 'Vicky', 'Vicky', 'Vicky', 'Vicky', 'Vicky', 'Vicky', 'Vicky', 'Vicky', 'Vicky', 'Vicky', 'Vicky', 'Vicky', 'Vicky', 'Vicky', 'Vicky', 'Vicky', 'Vicky', 'Vicky', 'Vicky', 'Vicky', 'Vicky', 'Vicky', 'Vicky', 'Vicky', 'Vicky', 'Vicky', 'Vicky'], 'loc': ['9575378417']})\n",
            "('745411HT', {'dept': ['Richard', 'Richard', 'Richard', 'Richard', 'Richard', 'Richard', 'Richard', 'Richard', 'Richard', 'Richard', 'Richard', 'Richard', 'Richard', 'Richard', 'Richard', 'Richard', 'Richard', 'Richard', 'Richard', 'Richard', 'Richard', 'Richard', 'Richard', 'Richard', 'Richard', 'Richard', 'Richard', 'Richard', 'Richard', 'Richard', 'Richard'], 'loc': ['9391632080']})\n",
            "('298464HN', {'dept': ['Kirk', 'Kirk', 'Kirk', 'Kirk', 'Kirk', 'Kirk', 'Kirk', 'Kirk', 'Kirk', 'Kirk', 'Kirk', 'Kirk', 'Kirk', 'Kirk', 'Kirk', 'Kirk', 'Kirk', 'Kirk', 'Kirk', 'Kirk', 'Kirk', 'Kirk', 'Kirk', 'Kirk', 'Kirk', 'Kirk', 'Kirk', 'Kirk', 'Kirk', 'Kirk', 'Kirk'], 'loc': ['9982641601']})\n",
            "('783950BW', {'dept': ['Kaori', 'Kaori', 'Kaori', 'Kaori', 'Kaori', 'Kaori', 'Kaori', 'Kaori', 'Kaori', 'Kaori', 'Kaori', 'Kaori', 'Kaori', 'Kaori', 'Kaori', 'Kaori', 'Kaori', 'Kaori', 'Kaori', 'Kaori', 'Kaori', 'Kaori', 'Kaori', 'Kaori', 'Kaori', 'Kaori', 'Kaori', 'Kaori', 'Kaori', 'Kaori', 'Kaori'], 'loc': ['9248480224']})\n",
            "('892691AR', {'dept': ['Beryl', 'Beryl', 'Beryl', 'Beryl', 'Beryl', 'Beryl', 'Beryl', 'Beryl', 'Beryl', 'Beryl', 'Beryl', 'Beryl', 'Beryl', 'Beryl', 'Beryl', 'Beryl', 'Beryl', 'Beryl', 'Beryl', 'Beryl', 'Beryl', 'Beryl', 'Beryl', 'Beryl', 'Beryl', 'Beryl', 'Beryl', 'Beryl', 'Beryl', 'Beryl', 'Beryl'], 'loc': ['9723803710']})\n",
            "('245668UZ', {'dept': ['Oscar', 'Oscar', 'Oscar', 'Oscar', 'Oscar', 'Oscar', 'Oscar', 'Oscar', 'Oscar', 'Oscar', 'Oscar', 'Oscar', 'Oscar', 'Oscar', 'Oscar', 'Oscar', 'Oscar', 'Oscar', 'Oscar', 'Oscar', 'Oscar', 'Oscar', 'Oscar', 'Oscar', 'Oscar', 'Oscar', 'Oscar', 'Oscar', 'Oscar', 'Oscar', 'Oscar'], 'loc': ['9395037841']})\n",
            "('231206QD', {'dept': ['Kumiko', 'Kumiko', 'Kumiko', 'Kumiko', 'Kumiko', 'Kumiko', 'Kumiko', 'Kumiko', 'Kumiko', 'Kumiko', 'Kumiko', 'Kumiko', 'Kumiko', 'Kumiko', 'Kumiko', 'Kumiko', 'Kumiko', 'Kumiko', 'Kumiko', 'Kumiko', 'Kumiko', 'Kumiko', 'Kumiko', 'Kumiko', 'Kumiko', 'Kumiko', 'Kumiko', 'Kumiko', 'Kumiko', 'Kumiko', 'Kumiko'], 'loc': ['9608996582']})\n",
            "('357919KT', {'dept': ['Wendy', 'Wendy', 'Wendy', 'Wendy', 'Wendy', 'Wendy', 'Wendy', 'Wendy', 'Wendy', 'Wendy', 'Wendy', 'Wendy', 'Wendy', 'Wendy', 'Wendy', 'Wendy', 'Wendy', 'Wendy', 'Wendy', 'Wendy', 'Wendy', 'Wendy', 'Wendy', 'Wendy', 'Wendy', 'Wendy', 'Wendy', 'Wendy', 'Wendy', 'Wendy', 'Wendy'], 'loc': ['9935208129']})\n"
          ]
        }
      ]
    },
    {
      "cell_type": "code",
      "source": [],
      "metadata": {
        "id": "TikxItMsIaNz"
      },
      "execution_count": null,
      "outputs": []
    }
  ]
}