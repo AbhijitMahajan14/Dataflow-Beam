{
  "nbformat": 4,
  "nbformat_minor": 0,
  "metadata": {
    "colab": {
      "provenance": [],
      "authorship_tag": "ABX9TyMKu/c44pTw3vo4ihft1m5T",
      "include_colab_link": true
    },
    "kernelspec": {
      "name": "python3",
      "display_name": "Python 3"
    },
    "language_info": {
      "name": "python"
    }
  },
  "cells": [
    {
      "cell_type": "markdown",
      "metadata": {
        "id": "view-in-github",
        "colab_type": "text"
      },
      "source": [
        "<a href=\"https://colab.research.google.com/github/AbhijitMahajan14/Dataflow-Beam/blob/main/CoGroupBy.ipynb\" target=\"_parent\"><img src=\"https://colab.research.google.com/assets/colab-badge.svg\" alt=\"Open In Colab\"/></a>"
      ]
    },
    {
      "cell_type": "markdown",
      "source": [
        "**CooGroupBy**"
      ],
      "metadata": {
        "id": "G__in6uA-4xJ"
      }
    },
    {
      "cell_type": "markdown",
      "source": [
        "relation join of two or more key/value Pcollection\n"
      ],
      "metadata": {
        "id": "GGf5oLTh-3Cc"
      }
    },
    {
      "cell_type": "code",
      "source": [
        "!{'pip install -q apache-beam'}"
      ],
      "metadata": {
        "colab": {
          "base_uri": "https://localhost:8080/"
        },
        "id": "3rJQns1HAs1Q",
        "outputId": "b725b8a0-3f50-4fa5-81a5-0ab271e0a13b"
      },
      "execution_count": 3,
      "outputs": [
        {
          "output_type": "stream",
          "name": "stdout",
          "text": [
            "\u001b[2K     \u001b[90m━━━━━━━━━━━━━━━━━━━━━━━━━━━━━━━━━━━━━━━━\u001b[0m \u001b[32m14.5/14.5 MB\u001b[0m \u001b[31m48.2 MB/s\u001b[0m eta \u001b[36m0:00:00\u001b[0m\n",
            "\u001b[2K     \u001b[90m━━━━━━━━━━━━━━━━━━━━━━━━━━━━━━━━━━━━━━━━\u001b[0m \u001b[32m89.7/89.7 kB\u001b[0m \u001b[31m8.6 MB/s\u001b[0m eta \u001b[36m0:00:00\u001b[0m\n",
            "\u001b[?25h  Preparing metadata (setup.py) ... \u001b[?25l\u001b[?25hdone\n",
            "\u001b[2K     \u001b[90m━━━━━━━━━━━━━━━━━━━━━━━━━━━━━━━━━━━━━━━━\u001b[0m \u001b[32m142.7/142.7 kB\u001b[0m \u001b[31m12.9 MB/s\u001b[0m eta \u001b[36m0:00:00\u001b[0m\n",
            "\u001b[2K     \u001b[90m━━━━━━━━━━━━━━━━━━━━━━━━━━━━━━━━━━━━━━━━\u001b[0m \u001b[32m152.0/152.0 kB\u001b[0m \u001b[31m13.4 MB/s\u001b[0m eta \u001b[36m0:00:00\u001b[0m\n",
            "\u001b[?25h  Preparing metadata (setup.py) ... \u001b[?25l\u001b[?25hdone\n",
            "\u001b[2K     \u001b[90m━━━━━━━━━━━━━━━━━━━━━━━━━━━━━━━━━━━━━━━━\u001b[0m \u001b[32m3.1/3.1 MB\u001b[0m \u001b[31m52.8 MB/s\u001b[0m eta \u001b[36m0:00:00\u001b[0m\n",
            "\u001b[2K     \u001b[90m━━━━━━━━━━━━━━━━━━━━━━━━━━━━━━━━━━━━━━━━\u001b[0m \u001b[32m43.5/43.5 kB\u001b[0m \u001b[31m3.4 MB/s\u001b[0m eta \u001b[36m0:00:00\u001b[0m\n",
            "\u001b[?25h  Preparing metadata (setup.py) ... \u001b[?25l\u001b[?25hdone\n",
            "\u001b[2K     \u001b[90m━━━━━━━━━━━━━━━━━━━━━━━━━━━━━━━━━━━━━━━━\u001b[0m \u001b[32m669.1/669.1 kB\u001b[0m \u001b[31m38.5 MB/s\u001b[0m eta \u001b[36m0:00:00\u001b[0m\n",
            "\u001b[2K     \u001b[90m━━━━━━━━━━━━━━━━━━━━━━━━━━━━━━━━━━━━━━━━\u001b[0m \u001b[32m252.0/252.0 kB\u001b[0m \u001b[31m14.7 MB/s\u001b[0m eta \u001b[36m0:00:00\u001b[0m\n",
            "\u001b[2K     \u001b[90m━━━━━━━━━━━━━━━━━━━━━━━━━━━━━━━━━━━━━━━━\u001b[0m \u001b[32m5.4/5.4 MB\u001b[0m \u001b[31m69.2 MB/s\u001b[0m eta \u001b[36m0:00:00\u001b[0m\n",
            "\u001b[2K     \u001b[90m━━━━━━━━━━━━━━━━━━━━━━━━━━━━━━━━━━━━━━━━\u001b[0m \u001b[32m1.0/1.0 MB\u001b[0m \u001b[31m52.7 MB/s\u001b[0m eta \u001b[36m0:00:00\u001b[0m\n",
            "\u001b[?25h  Preparing metadata (setup.py) ... \u001b[?25l\u001b[?25hdone\n",
            "  Preparing metadata (setup.py) ... \u001b[?25l\u001b[?25hdone\n",
            "\u001b[2K     \u001b[90m━━━━━━━━━━━━━━━━━━━━━━━━━━━━━━━━━━━━━━━━\u001b[0m \u001b[32m307.7/307.7 kB\u001b[0m \u001b[31m24.7 MB/s\u001b[0m eta \u001b[36m0:00:00\u001b[0m\n",
            "\u001b[?25h  Building wheel for crcmod (setup.py) ... \u001b[?25l\u001b[?25hdone\n",
            "  Building wheel for dill (setup.py) ... \u001b[?25l\u001b[?25hdone\n",
            "  Building wheel for hdfs (setup.py) ... \u001b[?25l\u001b[?25hdone\n",
            "  Building wheel for pyjsparser (setup.py) ... \u001b[?25l\u001b[?25hdone\n",
            "  Building wheel for docopt (setup.py) ... \u001b[?25l\u001b[?25hdone\n"
          ]
        }
      ]
    },
    {
      "cell_type": "code",
      "source": [
        "from google.colab import files\n",
        "upload=files.upload()"
      ],
      "metadata": {
        "colab": {
          "base_uri": "https://localhost:8080/",
          "height": 144
        },
        "id": "hNznPqXx_IKQ",
        "outputId": "e0282a68-3b9e-48e1-ffb7-95029800f4db"
      },
      "execution_count": 4,
      "outputs": [
        {
          "output_type": "display_data",
          "data": {
            "text/plain": [
              "<IPython.core.display.HTML object>"
            ],
            "text/html": [
              "\n",
              "     <input type=\"file\" id=\"files-d292eeab-d04c-4594-8067-05aaf96170fa\" name=\"files[]\" multiple disabled\n",
              "        style=\"border:none\" />\n",
              "     <output id=\"result-d292eeab-d04c-4594-8067-05aaf96170fa\">\n",
              "      Upload widget is only available when the cell has been executed in the\n",
              "      current browser session. Please rerun this cell to enable.\n",
              "      </output>\n",
              "      <script>// Copyright 2017 Google LLC\n",
              "//\n",
              "// Licensed under the Apache License, Version 2.0 (the \"License\");\n",
              "// you may not use this file except in compliance with the License.\n",
              "// You may obtain a copy of the License at\n",
              "//\n",
              "//      http://www.apache.org/licenses/LICENSE-2.0\n",
              "//\n",
              "// Unless required by applicable law or agreed to in writing, software\n",
              "// distributed under the License is distributed on an \"AS IS\" BASIS,\n",
              "// WITHOUT WARRANTIES OR CONDITIONS OF ANY KIND, either express or implied.\n",
              "// See the License for the specific language governing permissions and\n",
              "// limitations under the License.\n",
              "\n",
              "/**\n",
              " * @fileoverview Helpers for google.colab Python module.\n",
              " */\n",
              "(function(scope) {\n",
              "function span(text, styleAttributes = {}) {\n",
              "  const element = document.createElement('span');\n",
              "  element.textContent = text;\n",
              "  for (const key of Object.keys(styleAttributes)) {\n",
              "    element.style[key] = styleAttributes[key];\n",
              "  }\n",
              "  return element;\n",
              "}\n",
              "\n",
              "// Max number of bytes which will be uploaded at a time.\n",
              "const MAX_PAYLOAD_SIZE = 100 * 1024;\n",
              "\n",
              "function _uploadFiles(inputId, outputId) {\n",
              "  const steps = uploadFilesStep(inputId, outputId);\n",
              "  const outputElement = document.getElementById(outputId);\n",
              "  // Cache steps on the outputElement to make it available for the next call\n",
              "  // to uploadFilesContinue from Python.\n",
              "  outputElement.steps = steps;\n",
              "\n",
              "  return _uploadFilesContinue(outputId);\n",
              "}\n",
              "\n",
              "// This is roughly an async generator (not supported in the browser yet),\n",
              "// where there are multiple asynchronous steps and the Python side is going\n",
              "// to poll for completion of each step.\n",
              "// This uses a Promise to block the python side on completion of each step,\n",
              "// then passes the result of the previous step as the input to the next step.\n",
              "function _uploadFilesContinue(outputId) {\n",
              "  const outputElement = document.getElementById(outputId);\n",
              "  const steps = outputElement.steps;\n",
              "\n",
              "  const next = steps.next(outputElement.lastPromiseValue);\n",
              "  return Promise.resolve(next.value.promise).then((value) => {\n",
              "    // Cache the last promise value to make it available to the next\n",
              "    // step of the generator.\n",
              "    outputElement.lastPromiseValue = value;\n",
              "    return next.value.response;\n",
              "  });\n",
              "}\n",
              "\n",
              "/**\n",
              " * Generator function which is called between each async step of the upload\n",
              " * process.\n",
              " * @param {string} inputId Element ID of the input file picker element.\n",
              " * @param {string} outputId Element ID of the output display.\n",
              " * @return {!Iterable<!Object>} Iterable of next steps.\n",
              " */\n",
              "function* uploadFilesStep(inputId, outputId) {\n",
              "  const inputElement = document.getElementById(inputId);\n",
              "  inputElement.disabled = false;\n",
              "\n",
              "  const outputElement = document.getElementById(outputId);\n",
              "  outputElement.innerHTML = '';\n",
              "\n",
              "  const pickedPromise = new Promise((resolve) => {\n",
              "    inputElement.addEventListener('change', (e) => {\n",
              "      resolve(e.target.files);\n",
              "    });\n",
              "  });\n",
              "\n",
              "  const cancel = document.createElement('button');\n",
              "  inputElement.parentElement.appendChild(cancel);\n",
              "  cancel.textContent = 'Cancel upload';\n",
              "  const cancelPromise = new Promise((resolve) => {\n",
              "    cancel.onclick = () => {\n",
              "      resolve(null);\n",
              "    };\n",
              "  });\n",
              "\n",
              "  // Wait for the user to pick the files.\n",
              "  const files = yield {\n",
              "    promise: Promise.race([pickedPromise, cancelPromise]),\n",
              "    response: {\n",
              "      action: 'starting',\n",
              "    }\n",
              "  };\n",
              "\n",
              "  cancel.remove();\n",
              "\n",
              "  // Disable the input element since further picks are not allowed.\n",
              "  inputElement.disabled = true;\n",
              "\n",
              "  if (!files) {\n",
              "    return {\n",
              "      response: {\n",
              "        action: 'complete',\n",
              "      }\n",
              "    };\n",
              "  }\n",
              "\n",
              "  for (const file of files) {\n",
              "    const li = document.createElement('li');\n",
              "    li.append(span(file.name, {fontWeight: 'bold'}));\n",
              "    li.append(span(\n",
              "        `(${file.type || 'n/a'}) - ${file.size} bytes, ` +\n",
              "        `last modified: ${\n",
              "            file.lastModifiedDate ? file.lastModifiedDate.toLocaleDateString() :\n",
              "                                    'n/a'} - `));\n",
              "    const percent = span('0% done');\n",
              "    li.appendChild(percent);\n",
              "\n",
              "    outputElement.appendChild(li);\n",
              "\n",
              "    const fileDataPromise = new Promise((resolve) => {\n",
              "      const reader = new FileReader();\n",
              "      reader.onload = (e) => {\n",
              "        resolve(e.target.result);\n",
              "      };\n",
              "      reader.readAsArrayBuffer(file);\n",
              "    });\n",
              "    // Wait for the data to be ready.\n",
              "    let fileData = yield {\n",
              "      promise: fileDataPromise,\n",
              "      response: {\n",
              "        action: 'continue',\n",
              "      }\n",
              "    };\n",
              "\n",
              "    // Use a chunked sending to avoid message size limits. See b/62115660.\n",
              "    let position = 0;\n",
              "    do {\n",
              "      const length = Math.min(fileData.byteLength - position, MAX_PAYLOAD_SIZE);\n",
              "      const chunk = new Uint8Array(fileData, position, length);\n",
              "      position += length;\n",
              "\n",
              "      const base64 = btoa(String.fromCharCode.apply(null, chunk));\n",
              "      yield {\n",
              "        response: {\n",
              "          action: 'append',\n",
              "          file: file.name,\n",
              "          data: base64,\n",
              "        },\n",
              "      };\n",
              "\n",
              "      let percentDone = fileData.byteLength === 0 ?\n",
              "          100 :\n",
              "          Math.round((position / fileData.byteLength) * 100);\n",
              "      percent.textContent = `${percentDone}% done`;\n",
              "\n",
              "    } while (position < fileData.byteLength);\n",
              "  }\n",
              "\n",
              "  // All done.\n",
              "  yield {\n",
              "    response: {\n",
              "      action: 'complete',\n",
              "    }\n",
              "  };\n",
              "}\n",
              "\n",
              "scope.google = scope.google || {};\n",
              "scope.google.colab = scope.google.colab || {};\n",
              "scope.google.colab._files = {\n",
              "  _uploadFiles,\n",
              "  _uploadFilesContinue,\n",
              "};\n",
              "})(self);\n",
              "</script> "
            ]
          },
          "metadata": {}
        },
        {
          "output_type": "stream",
          "name": "stdout",
          "text": [
            "Saving cogroupby.txt to cogroupby.txt\n",
            "Saving dept_data.txt to dept_data.txt\n",
            "Saving location.txt to location.txt\n"
          ]
        }
      ]
    },
    {
      "cell_type": "code",
      "source": [
        "import apache_beam as beam\n",
        "def reTuple(element):\n",
        "  element=element.split(\",\")\n",
        "  return (element[0],element[1])\n",
        "\n",
        "p1=beam.Pipeline()\n",
        "\n",
        "dept=(\n",
        "    p1\n",
        "    |\"read dept data\">>beam.io.ReadFromText(\"dept_data.txt\")\n",
        "    |\"retuple dep\">>beam.Map(reTuple)\n",
        ")\n",
        "\n",
        "loc=(\n",
        "    p1\n",
        "    |\"read loc data\">>beam.io.ReadFromText(\"location.txt\")\n",
        "    |\"retuple loc\">>beam.Map(reTuple)\n",
        ")\n",
        "\n",
        "cogrouby_res=(\n",
        "    {\"dept\":dept,\"loc\":loc}\n",
        "    |beam.CoGroupByKey()\n",
        "    |beam.io.WriteToText(\"cogroupby_result.txt\")\n",
        ")\n",
        "\n",
        "p1.run()\n",
        "\n",
        "!{'head -n 20 cogroupby_result.txt-00000-of-00001'}"
      ],
      "metadata": {
        "colab": {
          "base_uri": "https://localhost:8080/"
        },
        "id": "ItiUfaAZAoGu",
        "outputId": "3817862d-e083-40c7-d375-d94f1b933eed"
      },
      "execution_count": 8,
      "outputs": [
        {
          "output_type": "stream",
          "name": "stdout",
          "text": [
            "('149633CM', {'dept': ['Marco', 'Marco', 'Marco', 'Marco', 'Marco', 'Marco', 'Marco', 'Marco', 'Marco', 'Marco', 'Marco', 'Marco', 'Marco', 'Marco', 'Marco', 'Marco', 'Marco', 'Marco', 'Marco', 'Marco', 'Marco', 'Marco', 'Marco', 'Marco', 'Marco', 'Marco', 'Marco', 'Marco', 'Marco', 'Marco', 'Marco'], 'loc': ['9876843261', '9204232778']})\n",
            "('212539MU', {'dept': ['Rebekah', 'Rebekah', 'Rebekah', 'Rebekah', 'Rebekah', 'Rebekah', 'Rebekah', 'Rebekah', 'Rebekah', 'Rebekah', 'Rebekah', 'Rebekah', 'Rebekah', 'Rebekah', 'Rebekah', 'Rebekah', 'Rebekah', 'Rebekah', 'Rebekah', 'Rebekah', 'Rebekah', 'Rebekah', 'Rebekah', 'Rebekah', 'Rebekah', 'Rebekah', 'Rebekah', 'Rebekah', 'Rebekah', 'Rebekah', 'Rebekah'], 'loc': ['9995440673']})\n",
            "('231555ZZ', {'dept': ['Itoe', 'Itoe', 'Itoe', 'Itoe', 'Itoe', 'Itoe', 'Itoe', 'Itoe', 'Itoe', 'Itoe', 'Itoe', 'Itoe', 'Itoe', 'Itoe', 'Itoe', 'Itoe', 'Itoe', 'Itoe', 'Itoe', 'Itoe', 'Itoe', 'Itoe', 'Itoe', 'Itoe', 'Itoe', 'Itoe', 'Itoe', 'Itoe', 'Itoe', 'Itoe', 'Itoe'], 'loc': ['9196597290']})\n",
            "('503996WI', {'dept': ['Edouard', 'Edouard', 'Edouard', 'Edouard', 'Edouard', 'Edouard', 'Edouard', 'Edouard', 'Edouard', 'Edouard', 'Edouard', 'Edouard', 'Edouard', 'Edouard', 'Edouard', 'Edouard', 'Edouard', 'Edouard', 'Edouard', 'Edouard', 'Edouard', 'Edouard', 'Edouard', 'Edouard', 'Edouard', 'Edouard', 'Edouard', 'Edouard', 'Edouard', 'Edouard', 'Edouard'], 'loc': ['9468234252']})\n",
            "('704275DC', {'dept': ['Kyle', 'Kyle', 'Kyle', 'Kyle', 'Kyle', 'Kyle', 'Kyle', 'Kyle', 'Kyle', 'Kyle', 'Kyle', 'Kyle', 'Kyle', 'Kyle', 'Kyle', 'Kyle', 'Kyle', 'Kyle', 'Kyle', 'Kyle', 'Kyle', 'Kyle', 'Kyle', 'Kyle', 'Kyle', 'Kyle', 'Kyle', 'Kyle', 'Kyle', 'Kyle', 'Kyle'], 'loc': ['9776235961']})\n",
            "('957149WC', {'dept': ['Kyle', 'Kyle', 'Kyle', 'Kyle', 'Kyle', 'Kyle', 'Kyle', 'Kyle', 'Kyle', 'Kyle', 'Kyle', 'Kyle', 'Kyle', 'Kyle', 'Kyle', 'Kyle', 'Kyle', 'Kyle', 'Kyle', 'Kyle', 'Kyle', 'Kyle', 'Kyle', 'Kyle', 'Kyle', 'Kyle', 'Kyle', 'Kyle', 'Kyle', 'Kyle', 'Kyle'], 'loc': ['9925595092']})\n",
            "('241316NX', {'dept': ['Kumiko', 'Kumiko', 'Kumiko', 'Kumiko', 'Kumiko', 'Kumiko', 'Kumiko', 'Kumiko', 'Kumiko', 'Kumiko', 'Kumiko', 'Kumiko', 'Kumiko', 'Kumiko', 'Kumiko', 'Kumiko', 'Kumiko', 'Kumiko', 'Kumiko', 'Kumiko', 'Kumiko', 'Kumiko', 'Kumiko', 'Kumiko', 'Kumiko', 'Kumiko', 'Kumiko', 'Kumiko', 'Kumiko', 'Kumiko', 'Kumiko'], 'loc': ['9837402343']})\n",
            "('796656IE', {'dept': ['Gaston', 'Gaston', 'Gaston', 'Gaston', 'Gaston', 'Gaston', 'Gaston', 'Gaston', 'Gaston', 'Gaston', 'Gaston', 'Gaston', 'Gaston', 'Gaston', 'Gaston', 'Gaston', 'Gaston', 'Gaston', 'Gaston', 'Gaston', 'Gaston', 'Gaston', 'Gaston', 'Gaston', 'Gaston', 'Gaston', 'Gaston', 'Gaston', 'Gaston', 'Gaston', 'Gaston'], 'loc': ['9538848876']})\n",
            "('718737IX', {'dept': ['Ayumi', 'Ayumi', 'Ayumi', 'Ayumi', 'Ayumi', 'Ayumi', 'Ayumi', 'Ayumi', 'Ayumi', 'Ayumi', 'Ayumi', 'Ayumi', 'Ayumi', 'Ayumi', 'Ayumi', 'Ayumi', 'Ayumi', 'Ayumi', 'Ayumi', 'Ayumi', 'Ayumi', 'Ayumi', 'Ayumi', 'Ayumi', 'Ayumi', 'Ayumi', 'Ayumi', 'Ayumi', 'Ayumi', 'Ayumi'], 'loc': ['9204232788']})\n",
            "('331593PS', {'dept': ['Beryl', 'Beryl', 'Beryl', 'Beryl', 'Beryl', 'Beryl', 'Beryl', 'Beryl', 'Beryl', 'Beryl', 'Beryl', 'Beryl', 'Beryl', 'Beryl', 'Beryl', 'Beryl', 'Beryl', 'Beryl', 'Beryl', 'Beryl', 'Beryl', 'Beryl', 'Beryl', 'Beryl', 'Beryl', 'Beryl', 'Beryl', 'Beryl', 'Beryl', 'Beryl', 'Beryl'], 'loc': ['9137216186']})\n",
            "('560447WH', {'dept': ['Olga', 'Olga', 'Olga', 'Olga', 'Olga', 'Olga', 'Olga', 'Olga', 'Olga', 'Olga', 'Olga', 'Olga', 'Olga', 'Olga', 'Olga', 'Olga', 'Olga', 'Olga', 'Olga', 'Olga', 'Olga', 'Olga', 'Olga', 'Olga', 'Olga', 'Olga', 'Olga', 'Olga', 'Olga', 'Olga', 'Olga'], 'loc': ['9708010864']})\n",
            "('222997TJ', {'dept': ['Leslie', 'Leslie', 'Leslie', 'Leslie', 'Leslie', 'Leslie', 'Leslie', 'Leslie', 'Leslie', 'Leslie', 'Leslie', 'Leslie', 'Leslie', 'Leslie', 'Leslie', 'Leslie', 'Leslie', 'Leslie', 'Leslie', 'Leslie', 'Leslie', 'Leslie', 'Leslie', 'Leslie', 'Leslie', 'Leslie', 'Leslie', 'Leslie', 'Leslie', 'Leslie', 'Leslie'], 'loc': ['9410006713']})\n",
            "('171752SY', {'dept': ['Mindy', 'Mindy', 'Mindy', 'Mindy', 'Mindy', 'Mindy', 'Mindy', 'Mindy', 'Mindy', 'Mindy', 'Mindy', 'Mindy', 'Mindy', 'Mindy', 'Mindy', 'Mindy', 'Mindy', 'Mindy', 'Mindy', 'Mindy', 'Mindy', 'Mindy', 'Mindy', 'Mindy', 'Mindy', 'Mindy', 'Mindy', 'Mindy', 'Mindy', 'Mindy', 'Mindy'], 'loc': ['9494683837']})\n",
            "('153636AS', {'dept': ['Vicky', 'Vicky', 'Vicky', 'Vicky', 'Vicky', 'Vicky', 'Vicky', 'Vicky', 'Vicky', 'Vicky', 'Vicky', 'Vicky', 'Vicky', 'Vicky', 'Vicky', 'Vicky', 'Vicky', 'Vicky', 'Vicky', 'Vicky', 'Vicky', 'Vicky', 'Vicky', 'Vicky', 'Vicky', 'Vicky', 'Vicky', 'Vicky', 'Vicky', 'Vicky', 'Vicky'], 'loc': ['9575378417']})\n",
            "('745411HT', {'dept': ['Richard', 'Richard', 'Richard', 'Richard', 'Richard', 'Richard', 'Richard', 'Richard', 'Richard', 'Richard', 'Richard', 'Richard', 'Richard', 'Richard', 'Richard', 'Richard', 'Richard', 'Richard', 'Richard', 'Richard', 'Richard', 'Richard', 'Richard', 'Richard', 'Richard', 'Richard', 'Richard', 'Richard', 'Richard', 'Richard', 'Richard'], 'loc': ['9391632080']})\n",
            "('298464HN', {'dept': ['Kirk', 'Kirk', 'Kirk', 'Kirk', 'Kirk', 'Kirk', 'Kirk', 'Kirk', 'Kirk', 'Kirk', 'Kirk', 'Kirk', 'Kirk', 'Kirk', 'Kirk', 'Kirk', 'Kirk', 'Kirk', 'Kirk', 'Kirk', 'Kirk', 'Kirk', 'Kirk', 'Kirk', 'Kirk', 'Kirk', 'Kirk', 'Kirk', 'Kirk', 'Kirk', 'Kirk'], 'loc': ['9982641601']})\n",
            "('783950BW', {'dept': ['Kaori', 'Kaori', 'Kaori', 'Kaori', 'Kaori', 'Kaori', 'Kaori', 'Kaori', 'Kaori', 'Kaori', 'Kaori', 'Kaori', 'Kaori', 'Kaori', 'Kaori', 'Kaori', 'Kaori', 'Kaori', 'Kaori', 'Kaori', 'Kaori', 'Kaori', 'Kaori', 'Kaori', 'Kaori', 'Kaori', 'Kaori', 'Kaori', 'Kaori', 'Kaori', 'Kaori'], 'loc': ['9248480224']})\n",
            "('892691AR', {'dept': ['Beryl', 'Beryl', 'Beryl', 'Beryl', 'Beryl', 'Beryl', 'Beryl', 'Beryl', 'Beryl', 'Beryl', 'Beryl', 'Beryl', 'Beryl', 'Beryl', 'Beryl', 'Beryl', 'Beryl', 'Beryl', 'Beryl', 'Beryl', 'Beryl', 'Beryl', 'Beryl', 'Beryl', 'Beryl', 'Beryl', 'Beryl', 'Beryl', 'Beryl', 'Beryl', 'Beryl'], 'loc': ['9723803710']})\n",
            "('245668UZ', {'dept': ['Oscar', 'Oscar', 'Oscar', 'Oscar', 'Oscar', 'Oscar', 'Oscar', 'Oscar', 'Oscar', 'Oscar', 'Oscar', 'Oscar', 'Oscar', 'Oscar', 'Oscar', 'Oscar', 'Oscar', 'Oscar', 'Oscar', 'Oscar', 'Oscar', 'Oscar', 'Oscar', 'Oscar', 'Oscar', 'Oscar', 'Oscar', 'Oscar', 'Oscar', 'Oscar', 'Oscar'], 'loc': ['9395037841']})\n",
            "('231206QD', {'dept': ['Kumiko', 'Kumiko', 'Kumiko', 'Kumiko', 'Kumiko', 'Kumiko', 'Kumiko', 'Kumiko', 'Kumiko', 'Kumiko', 'Kumiko', 'Kumiko', 'Kumiko', 'Kumiko', 'Kumiko', 'Kumiko', 'Kumiko', 'Kumiko', 'Kumiko', 'Kumiko', 'Kumiko', 'Kumiko', 'Kumiko', 'Kumiko', 'Kumiko', 'Kumiko', 'Kumiko', 'Kumiko', 'Kumiko', 'Kumiko', 'Kumiko'], 'loc': ['9608996582']})\n"
          ]
        }
      ]
    },
    {
      "cell_type": "code",
      "source": [],
      "metadata": {
        "id": "sEXDA06yC74d"
      },
      "execution_count": null,
      "outputs": []
    }
  ]
}